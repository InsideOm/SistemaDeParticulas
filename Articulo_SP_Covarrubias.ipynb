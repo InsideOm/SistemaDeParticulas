{
 "cells": [
  {
   "cell_type": "markdown",
   "id": "c8a718db",
   "metadata": {},
   "source": [
    "#### **MOVIMIENTO ROTACIONAL Y TRASLACIONAL** "
   ]
  },
  {
   "cell_type": "markdown",
   "id": "ee5bb2e5",
   "metadata": {},
   "source": [
    "Covarrubias Burgos Lucero"
   ]
  }
 ],
 "metadata": {
  "language_info": {
   "name": "python"
  }
 },
 "nbformat": 4,
 "nbformat_minor": 5
}
