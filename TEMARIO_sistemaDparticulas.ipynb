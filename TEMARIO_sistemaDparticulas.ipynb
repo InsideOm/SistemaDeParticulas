{
 "cells": [
  {
   "cell_type": "markdown",
   "id": "b3421cba",
   "metadata": {},
   "source": [
    "# **Sistema de partículas**\n",
    "\n",
    "### Covarrubias Burgos Lucero\n",
    "\n",
    "### **TEMARIO -- GUÍA**"
   ]
  },
  {
   "cell_type": "markdown",
   "id": "2d51aeaf",
   "metadata": {},
   "source": [
    "> #### **Cosas que deberías saber:**\n",
    "\n",
    "* Cantidades y unidades físicas: \n",
    "\n",
    "* Cifras significativas:\n",
    "\n",
    "* Escalares, vectores y suma de vectores:\n",
    "\n",
    "* Componentes de vectores y suma de vectores:\n",
    "\n",
    "* Vectores unitarios:\n",
    "\n",
    "* **Producto escalar:** \n",
    "\n",
    "    $\\vec A · \\vec B = |\\vec A| |\\vec B|cosx = ABcosx$\n",
    "\n",
    "* **Movimiento rectilíneo, velocidad; media e instantánea.**\n",
    "\n",
    "    La velocidad comienza cuando un marco de referencia / sistema de referencia llamado observador, puede apreciar/percibir/medir...etc. el movimiento de otro sistema/marco de referencia. Es por esto que la velocidad media no es: \n",
    "\n",
    "    $v_{med} = \\frac{v_f-v_0}{2}$\n",
    "\n",
    "    Si no más bién: \n",
    "\n",
    "    $v_{med} = \\frac{x_f - x_0}{t_f - t_0}$\n",
    "\n",
    "    Así tenemos que la velocidad en un espacio/tiempo determinado para el sistema de referencias es:\n",
    "\n",
    "* Aceleración media e instantánea: Lo mismo que de la velocidad\n",
    "\n",
    "* Movimiento rectilíneo uniformemente acelerado:\n",
    "\n",
    "* Cuerpos en caída libre.\n",
    "\n",
    "* Movimiento rectilíneo con aceleración variable:\n",
    "\n",
    "* Vectores de posición, velocidad y aceleración:\n",
    "\n",
    "* Movimiento de proyectiles.\n",
    "\n",
    "* Movimiento circular uniforme y no uniforme.\n",
    "\n",
    "* Velocidad relativa: \n",
    "\n",
    "* Fuerza como vector.\n",
    "\n",
    "* Fuerza neta sobre un cuerpo.\n",
    "\n",
    "* Primera Ley de Newton.\n",
    "\n",
    "* Masa, aceleración.\n",
    "\n",
    "* Segunda Ley de Newton:\n",
    "\n",
    "* Peso\n",
    "\n",
    "* Tercera Ley de Newton:\n",
    "\n",
    "* Pares acción-reacción. "
   ]
  },
  {
   "cell_type": "markdown",
   "id": "3d4b0a85",
   "metadata": {},
   "source": [
    "### UNIDAD 1. INTRODUCCIÓN\n",
    "\n",
    "##### **Competencia**: Aplicar sin ambigüedades los principios y leyes de la física en **un sistema de partículas**, mediante la definición adecuada de las **fronteras del sistema** así como de sus **interacciones**, para describir fenómenos físicos en problemas con partículas interactuantes, con una actitud crítica y de forma objetiva. "
   ]
  },
  {
   "cell_type": "markdown",
   "id": "834260c5",
   "metadata": {},
   "source": [
    "**1.1 Definición de un sistema de partículas:**\n",
    "\n",
    "Modelo físico \"simple\" donde sólo se trabaja con fuerzas y masas puntuales.\n",
    "Es un conjunto de partículas que interaccionan. Cada partícula representa una pequeña porción de un fluido o entidad amorfa y el efecto de todas las partículas juntas crea la impresión de la entidad completa. Utilizando una nube de humo como ejemplo, cada partícula tendría una pequeña textura de humo parecida a una nube pequeña. Cuando muchas de estas nubes pequeñas se arreglan juntas en un área de la escena, el efecto general es de una nube llena de gran volumen. \n",
    "\n",
    "$\\sum \\vec F_{ext} = \\vec{0}$\n",
    "\n",
    "Una característica es que se asume o se postula que todas las partículas se encuentran a la misma distancia del **centro de masa** y cada una pesa lo mismo que la otra. \n",
    "\n",
    "--> La definición se aborda en la UNIDAD 2. "
   ]
  },
  {
   "cell_type": "markdown",
   "id": "8a250aaa",
   "metadata": {},
   "source": [
    "**1.2 Definición de objeto extendido:**\n",
    "\n",
    "Son los objetos con todas sus partes contempladas, el objeto que se presenta en la vida real con más de un punto con masa. Sobre todo es aquél donde su dinámica no se puede reducir a la de una sencilla partícula. Esto implica que las partículas que lo componen se aplican fuerzas internas entre sí, además de la fuerza externa que actúa sobre el objeto en su conjunto. \n",
    "\n",
    "Además, tiene una forma y un tamaño tridimensionales definidos, lo que implica que sus distintas partes no están todas a la misma distancia del centro de masa. "
   ]
  },
  {
   "cell_type": "markdown",
   "id": "33c3f2db",
   "metadata": {},
   "source": [
    "###### **Recapitulación:** Es importante recordar que un **sistema de partículas** trata a los objetos como puntos materiales con masa, cuyas dimensiones y forma no son consideradas, mientras que un **objeto extendido** reconoce la existencia de un tamaño y una distribución de masa normalmente no uniforme, siendo este último un sistema de un gran número de partículas y exigiendo el uso de modelos más complejos como el cuerpo rígido o el considerar la deformación del objeto. "
   ]
  },
  {
   "cell_type": "markdown",
   "id": "bd0d5e21",
   "metadata": {},
   "source": [
    "**1.3 Interacciones internas y externas**\n",
    "\n",
    "Cuando se trabaja con un sistema de partículas, lo primero que hay que determinar es: \n",
    "\n",
    "* ¿Qué partículas constituyen el sistema?\n",
    "\n",
    "* ¿Si las fuerzas que actúan sobre él son **internas** o **externas**?\n",
    "\n",
    "Dependiendo de cómo sea el sistema, un sistema de partículas puntuales (esto sucede cuando la densidad de su masa tiende a ser uniforme) o un objeto extendido, el cual también puede llamarse sistema de partículas extendido), sistema de N-partículas o sistema compuesto por N-partículas, cuya dinámica se vaya a estudiar, las fuerzas \n"
   ]
  },
  {
   "cell_type": "markdown",
   "id": "58b97b69",
   "metadata": {},
   "source": [
    "**1.4 Sistemas aislados**\n",
    "\n",
    "Yo digo que es un sistema de partículas o un objeto extendido donde ya se sabe o se postula que la suma de fuerzas externas es nula. En otras palabras, es un sistema que vive dentro del conjunto de objetos donde se cumple que:\n",
    "\n",
    "$\\sum \\vec F_{ext} = \\vec 0 $"
   ]
  },
  {
   "cell_type": "markdown",
   "id": "70912a39",
   "metadata": {},
   "source": [
    "##### **REFERENCIAS DE LA UNIDAD 1:** \n",
    "https://estudiarfisica.com/2008/12/12/fisica-general-9-sistemas-de-particulas-discretos-continuos-fuerzas-interiores-y-exteriores-ecuaciones-del-movimiento-centro-de-masas-teoremas-de-guldin-momento-lineal-y-angular-energia-cin/\n",
    "\n",
    "https://ocw.uc3m.es/pluginfile.php/1305/mod_page/content/20/TEMA4_Sistema_de_particulas.pdf\n",
    "\n",
    "https://docs.unity3d.com/es/2018.4/Manual/PartSysWhatIs.html\n",
    "\n",
    "https://www2.montes.upm.es/dptos/digfa/cfisica/dinamsist/fintext.html"
   ]
  },
  {
   "cell_type": "markdown",
   "id": "617ce5a7",
   "metadata": {},
   "source": [
    "## UNIDAD 2. DINÁMICA DE SISTEMAS DE PARTÍCULAS\n",
    "\n",
    "##### **Competencia**: Analizar el movimiento de un **sistema complejo** compuesto por muchas partículas, mediante la aplicación de los conceptos de centro de masa y de la conservación del momento lineal, para resolver problemas físicos que involucran colisiones, con una actitud responsable y propositiva. \n",
    "\n",
    "### Contenido "
   ]
  },
  {
   "cell_type": "markdown",
   "id": "c9d8b501",
   "metadata": {},
   "source": [
    "* 2.1 **Centro de masa**\n",
    "\n",
    "Los **cuerpos extensos** reales, pueden tener movimientos rotacionales y de de otro tipo. Un cuerpo extenso también puede vibrar y sus partes pueden moverse en su interior en forma complicada.\n",
    "\n",
    "Podremos demostrar que incluso si un cuerpo rota, o existen varios cuerpos que tienen movimientos relativos entre sí, existe un punto en el cuerpo (o grupo de cuerpos) que se mueve del mismo modo en que lo haría una partícla que estuviera sujeta a la misma fuerza  neta. ESte punto se llama el **centro de masa**. \n",
    "\n",
    "El movimiento general de un **cuerpo extenso** o **sistema de cuerpos** puede considerarse como la suma del movimiento traslacional de su cm más los movimientos rotacional, vibracional o de cualquier otro tipo alrededor de su **centro de masa**. "
   ]
  },
  {
   "cell_type": "markdown",
   "id": "5bd25a4a",
   "metadata": {},
   "source": [
    "* 2.2 Movimiento del centro de masa"
   ]
  },
  {
   "cell_type": "markdown",
   "id": "4bdc0988",
   "metadata": {},
   "source": [
    "### 2.3 2.3.**Momento lineal y momento angular de un sistema de partículas**\n",
    "\n",
    "**Cantidad de movimiento e impulso**\n",
    "\n"
   ]
  },
  {
   "cell_type": "markdown",
   "id": "e3b71777",
   "metadata": {},
   "source": [
    "* 2.4 Conservación del momento lineal de un sistema de partículas."
   ]
  },
  {
   "cell_type": "markdown",
   "id": "f27e69a8",
   "metadata": {},
   "source": [
    "### 2.5 2.1.**Energía cinética de un sistema de partículas**\n",
    "\n",
    "> **Principio de conservación de la energía**: la energía es una cantidad que se convierte de una forma a otra, pero no se crea ni destruye.\n",
    "\n",
    "En un motor de automóvil, la energía química almacenada en el combustible se convierte parcialmente en la energía de movimiento del automóvil, y parcialmente en energía térmica. En un horno de microondas doméstico, la energía  electromagnética se convierte en energía térmica para cocinar los alimentos. En estos y todos los procesos en general, la **energía total**, es decir, la suma de toda la energía presente en diferentes formas, no cambia. Se cree que podría haberse encontrado una excepción, **ACTUALIZAR**\n",
    "\n",
    "> **Trabajo:**\n",
    "\n",
    "En cualquier movimiento, por complicado que sea, el trabajo total realizado sobre una partícula por todas las fuerzas que actúan sobre ella es igual al cambio en su **energía cinética**: una cantidad relacionada con la masa y la rapidez de la partícula. \n",
    "\n",
    "Los conceptos de trabajo y energía cinética nos permitieron resolver problemas de mecánica que no se podían resolver sin estas herramientas. \n",
    "\n",
    "Considere un cuerpo que experimenta un **desplazamiento** de magnitud \"**s**\" en línea recta. (Por ahora, supondremos que todo cuerpo puede tratarse como una partícula y despreciaremos cualquier rotación o los cambios en la forma del cuerpo). Mientras el cuerpo se mueve, una **fuerza** constante $\\vec F$ actúa sobre él en la dirección del desplazamiento \"$\\vec s$\".\n",
    "\n",
    "Definimos el **trabajo** realizado como:\n",
    "\n",
    "$|\\vec W| = |\\vec F||\\vec s|$ \n",
    "\n",
    "--> $W = Fs$\n",
    "\n",
    "La unidad de Trabajo en el SI es:\n",
    "\n",
    "$ 1 joule = 1 N·m ==> 1 J$\n",
    "\n",
    "* Cuando la fuerza no tiene la misma dirección que el desplazamiento y se genera un ángulo entre ambos vectores, tenemos que el trabajo se calcula como: \n",
    "\n",
    "$W = Fscos(\\theta)$\n",
    "\n",
    "$|\\vec W| = \\vec F · \\vec s$\n",
    "\n",
    "**Trabajo: Positivo, negativo o cero.**\n",
    "\n",
    "**Trabajo total**\n",
    "\n",
    "**Energía cinética**:\n",
    "\n",
    "$K = \\frac{1}{2}mv²$\n",
    "\n",
    "**Teorema trabajo-energía**\n",
    "\n",
    "$W_{tot} = K_2 - K_1 = \\Delta K$\n",
    "\n",
    "**Trabajo efectuado por una fuerza variable o una trayectoria curva**\n",
    "\n",
    "$$W = \\int_{x_1}^{x_2} F_x dx$$\n",
    "\n",
    "**Potencia** \n",
    "\n",
    "$$P_{med} = \\frac{\\Delta W}{\\Delta t}$$\n",
    "\n",
    "En el límite:\n",
    "\n",
    "$$P = \\vec F · \\vec v$$"
   ]
  },
  {
   "cell_type": "markdown",
   "id": "e2b8c969",
   "metadata": {},
   "source": [
    "### 2.6 2.2.**Conservación de la energía en un sistema de partículas**\n",
    "\n",
    "Hay otra forma de ver el trabajo y la energía cinética. El nuevo enfoque se basa en el concepto de **energía potencial**, que es la energía asociada con la **posición de un sistema**, no con su movimiento.\n",
    "\n",
    "Demostraremos que, en algunos casos, la suma de las energía cinética y potencial de un sistema, llamada **energía mecánica total**, es constante durante el movimiento del sistema. Así llegamos al enunciado general de la $ley de la conservación de la energía$.\n",
    "\n",
    "**Energía potencial gravitacional** \n",
    "\n",
    "* **Conservación de la energía mecánica (sólo fuerzas gravitacionales)**\n",
    "\n",
    "* **Cuando otras fuerzas distintas de la gravedad realizan trabajo**\n",
    "\n",
    "* **Energía potencial gravitacional en el movimiento con trayectoria curva** \n",
    "\n",
    "**Energía potencial elástica**\n",
    "\n",
    "* Situaciones con energía potencial tanto gravitacional como elástica \n",
    "\n",
    "**Fuerzas conservativas y NO conservativas**\n",
    "\n",
    "* Fuerzas conservativas\n",
    "\n",
    "* Fuerzas no conservativas\n",
    "\n",
    "* **Ley de la conservación de la energía** \n",
    "$$\\Delta K + \\Delta U + \\Delta U_{int} = 0$$\n",
    "\n",
    "Para captar el significado de la energía interna, consideremos el bloque que se desliza por una superficie áspera. Cuando se desliza, la fricción realiza \"**trabajo negativo**\" sobre el bloque, y el cambio en la energía interna $\\Delta U_{int}$ del bloque y de la superficie es positivo (ambos se calientan). Experimentos meticulosos han demostrado que el aumento en la **energía interna** es exactamente igual al valor absoluto del **trabajo efectuado por la fricción**. Dicho de otro modo:\n",
    "\n",
    "$$\\Delta U_{int} = -W_{fri}$$\n",
    "\n",
    "* **Fuerza y Energía potencial**\n",
    "\n",
    "* **Diagramas de energía**\n",
    "\n",
    "\n"
   ]
  },
  {
   "cell_type": "markdown",
   "id": "926b48a1",
   "metadata": {},
   "source": [
    "* 2.7 **Energía cinética en las colisiones**\n"
   ]
  },
  {
   "cell_type": "markdown",
   "id": "7afb90c5",
   "metadata": {},
   "source": [
    "* 2.8 Colisiones elásticas e inelásticas entre dos cuerpos"
   ]
  },
  {
   "cell_type": "markdown",
   "id": "c1aa890f",
   "metadata": {
    "tags": [
     "parameters"
    ]
   },
   "source": []
  }
 ],
 "metadata": {
  "kernelspec": {
   "display_name": "base",
   "language": "python",
   "name": "python3"
  },
  "language_info": {
   "name": "python",
   "version": "3.13.7"
  }
 },
 "nbformat": 4,
 "nbformat_minor": 5
}
